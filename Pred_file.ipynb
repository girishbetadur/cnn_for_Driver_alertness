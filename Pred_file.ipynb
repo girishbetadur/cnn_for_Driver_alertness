{
 "cells": [
  {
   "cell_type": "code",
   "execution_count": null,
   "metadata": {},
   "outputs": [],
   "source": [
    "import pandas as pd\n",
    "import numpy as np\n",
    "import time\n",
    "import resource\n",
    "import psutil\n",
    "from keras.models import load_model\n",
    "\n",
    "start=time.time()\n",
    "x_test=pd.read_csv(\"wake66.csv\")\n",
    "x_test=x_test.values\n",
    "model=load_model(\"cnn_model.h5\")\n",
    "x_test=x_test.reshape(1,99,100,1)\n",
    "pred=model.predict(x_test)\n",
    "value=np.argmax(pred)\n",
    "value=int(value)\n",
    "if(value==0):\n",
    "    print('Predection 0, Driver is Sleepy')\n",
    "else:\n",
    "    print('Predection 1, Driver is Awake')"
   ]
  }
 ],
 "metadata": {
  "kernelspec": {
   "display_name": "Python 3",
   "language": "python",
   "name": "python3"
  },
  "language_info": {
   "codemirror_mode": {
    "name": "ipython",
    "version": 3
   },
   "file_extension": ".py",
   "mimetype": "text/x-python",
   "name": "python",
   "nbconvert_exporter": "python",
   "pygments_lexer": "ipython3",
   "version": "3.7.4"
  }
 },
 "nbformat": 4,
 "nbformat_minor": 2
}
